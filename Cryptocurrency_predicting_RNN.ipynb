{
  "nbformat": 4,
  "nbformat_minor": 0,
  "metadata": {
    "colab": {
      "name": "Cryptocurrency-predicting RNN.ipynb",
      "provenance": [],
      "collapsed_sections": [],
      "authorship_tag": "ABX9TyMK1E+qT34qyO1Vnv1JFWUj",
      "include_colab_link": true
    },
    "kernelspec": {
      "name": "python3",
      "display_name": "Python 3"
    }
  },
  "cells": [
    {
      "cell_type": "markdown",
      "metadata": {
        "id": "view-in-github",
        "colab_type": "text"
      },
      "source": [
        "<a href=\"https://colab.research.google.com/github/Papadopoulos18/Cryptocurrency-predicting-RNN-BTC-LTC-BCH-ETH-with-Tensorflow/blob/main/Cryptocurrency_predicting_RNN.ipynb\" target=\"_parent\"><img src=\"https://colab.research.google.com/assets/colab-badge.svg\" alt=\"Open In Colab\"/></a>"
      ]
    },
    {
      "cell_type": "code",
      "metadata": {
        "id": "v42a_aYr2uOn"
      },
      "source": [
        "import pandas as pd \r\n",
        "import os\r\n",
        "\r\n"
      ],
      "execution_count": 1,
      "outputs": []
    },
    {
      "cell_type": "markdown",
      "metadata": {
        "id": "d15RfNC6-Yz1"
      },
      "source": [
        "upload files manualy on Google Colab (link to download the data from:https://pythonprogramming.net/static/downloads/machine-learning-data/crypto_data.zip)"
      ]
    },
    {
      "cell_type": "markdown",
      "metadata": {
        "id": "AUvQHO_U_DHw"
      },
      "source": [
        "we are going to name the columns of the .csv file"
      ]
    },
    {
      "cell_type": "code",
      "metadata": {
        "colab": {
          "base_uri": "https://localhost:8080/"
        },
        "id": "htdNz1Lg-LvI",
        "outputId": "87a1236e-a76e-4ae0-e3d5-d88ebbe2f5e8"
      },
      "source": [
        "df = pd.read_csv(\"/content/LTC-USD.csv\", names=[\"time\", \"low\", \"high\", \"open\", \"close\", \"volume\"])\r\n",
        "print(df.head())"
      ],
      "execution_count": 4,
      "outputs": [
        {
          "output_type": "stream",
          "text": [
            "        times        low       high       open      close      volume\n",
            "0  1528968660  96.580002  96.589996  96.589996  96.580002    9.647200\n",
            "1  1528968720  96.449997  96.669998  96.589996  96.660004  314.387024\n",
            "2  1528968780  96.470001  96.570000  96.570000  96.570000   77.129799\n",
            "3  1528968840  96.449997  96.570000  96.570000  96.500000    7.216067\n",
            "4  1528968900  96.279999  96.540001  96.500000  96.389999  524.539978\n"
          ],
          "name": "stdout"
        }
      ]
    },
    {
      "cell_type": "markdown",
      "metadata": {
        "id": "vJN1Qu1n_27b"
      },
      "source": [
        "we want to get the close and the volume for each one of the 4 .csv files. The only thing that these 4 csv files have in common is the \"time\" column. They all share the same index, which is time"
      ]
    },
    {
      "cell_type": "code",
      "metadata": {
        "colab": {
          "base_uri": "https://localhost:8080/"
        },
        "id": "ovqYw0oK-8DW",
        "outputId": "c24b6a31-38ef-4875-8e02-38067b1a6b33"
      },
      "source": [
        "main_df = pd.DataFrame() # begin empty\r\n",
        "\r\n",
        "ratios = [\"BTC-USD\", \"LTC-USD\", \"BCH-USD\", \"ETH-USD\"]  # the 4 ratios we want to consider\r\n",
        "for ratio in ratios:\r\n",
        "  print(ratio)\r\n",
        "  dataset = f\"/content/{ratio}.csv\"\r\n",
        "  # print(dataset)\r\n",
        "\r\n",
        "  df = pd.read_csv(dataset, names=[\"time\", \"low\", \"high\", \"open\", \"close\", \"volume\"])\r\n",
        "  # print(df.head()) we want to work with close and volume\r\n",
        "  df.rename(columns={\"close\": f\"{ratio}_close\", \"volume\": f\"{ratio}_volume\"}, inplace=True)\r\n",
        "\r\n",
        "  df.set_index(\"time\", inplace=True)\r\n",
        "  df = df[[f'{ratio}_close',f\"{ratio}_volume\"]] # ignore the other columns besides price and volume\r\n",
        "  # print(df.head())\r\n",
        "\r\n",
        "  # now we want to merge those 4\r\n",
        "  if len(main_df) == 0:           #i.e. is empty\r\n",
        "    main_df = df\r\n",
        "  else:\r\n",
        "    main_df = main_df.join(df)\r\n",
        "\r\n",
        "main_df.fillna(method=\"ffill\", inplace=True)  # if there are gaps in data, use previously known values\r\n",
        "main_df.dropna(inplace=True)\r\n",
        "print(main_df.head())"
      ],
      "execution_count": 32,
      "outputs": [
        {
          "output_type": "stream",
          "text": [
            "BTC-USD\n",
            "LTC-USD\n",
            "BCH-USD\n",
            "ETH-USD\n",
            "            BTC-USD_close  BTC-USD_volume  ...  ETH-USD_close  ETH-USD_volume\n",
            "time                                       ...                               \n",
            "1528968720    6487.379883        7.706374  ...      486.01001       26.019083\n",
            "1528968780    6479.410156        3.088252  ...      486.00000        8.449400\n",
            "1528968840    6479.410156        1.404100  ...      485.75000       26.994646\n",
            "1528968900    6479.979980        0.753000  ...      486.00000       77.355759\n",
            "1528968960    6480.000000        1.490900  ...      486.00000        7.503300\n",
            "\n",
            "[5 rows x 8 columns]\n"
          ],
          "name": "stdout"
        }
      ]
    },
    {
      "cell_type": "markdown",
      "metadata": {
        "id": "G2SUslc8H_OV"
      },
      "source": [
        "Next, we need to create a target. To do this, we need to know which price we're trying to predict. We also need to know how far out we want to predict. We'll go with Litecoin for now. Knowing how far out we want to predict probably also depends how long our sequences are. If our sequence length is 3 (so...3 minutes), we probably can't easily predict out 10 minutes. If our sequence length is 300, 10 might not be as hard. I'd like to go with a sequence length of 60, and a future prediction out of 3. We could also make the prediction a regression question, using a linear activation with the output layer, but, instead, I am going to just go with a binary classification.\r\n",
        "\r\n",
        "If price goes up in 3 minutes, then it's a buy. If it goes down in 3 minutes, not buy/sell. With all of that in mind, I am going to make the following constants:"
      ]
    },
    {
      "cell_type": "code",
      "metadata": {
        "id": "R9qDv3JcDLLS"
      },
      "source": [
        "SEQ_LEN = 60\r\n",
        "FUTURE_PERIOD_PREDICT = 3\r\n",
        "RATIO_TO_PREDICT = \"LTC-USD\"\r\n",
        "\r\n",
        "def classify(current, future):\r\n",
        "  if float(futute)>float(current):\r\n",
        "    return 1                        #BUY\r\n",
        "  else:\r\n",
        "    return 0                        #DONT BUY"
      ],
      "execution_count": 14,
      "outputs": []
    },
    {
      "cell_type": "markdown",
      "metadata": {
        "id": "phK9S5-SLW77"
      },
      "source": [
        "## so knowing these we are writing our code like below:"
      ]
    },
    {
      "cell_type": "code",
      "metadata": {
        "colab": {
          "base_uri": "https://localhost:8080/"
        },
        "id": "Gj_GuoQEKvsP",
        "outputId": "bd3223c6-d4c6-462b-fdf7-dfbd01da3975"
      },
      "source": [
        "import pandas as pd \r\n",
        "import os\r\n",
        "\r\n",
        "SEQ_LEN = 60\r\n",
        "FUTURE_PERIOD_PREDICT = 3\r\n",
        "RATIO_TO_PREDICT = \"LTC-USD\"\r\n",
        "\r\n",
        "\r\n",
        "def classify(current, future):\r\n",
        "  if float(future)>float(current):\r\n",
        "    return 1                        #BUY\r\n",
        "  else:\r\n",
        "    return 0                        #DONT BUY\r\n",
        "\r\n",
        "\r\n",
        "\r\n",
        "main_df = pd.DataFrame() # begin empty\r\n",
        "\r\n",
        "ratios = [\"BTC-USD\", \"LTC-USD\", \"BCH-USD\", \"ETH-USD\"]  # the 4 ratios we want to consider\r\n",
        "for ratio in ratios:\r\n",
        "  # print(ratio)\r\n",
        "  dataset = f\"/content/{ratio}.csv\"\r\n",
        "  # print(dataset)\r\n",
        "\r\n",
        "  df = pd.read_csv(dataset, names=[\"time\", \"low\", \"high\", \"open\", \"close\", \"volume\"])\r\n",
        "  # print(df.head()) we want to work with close and volume\r\n",
        "  df.rename(columns={\"close\": f\"{ratio}_close\", \"volume\": f\"{ratio}_volume\"}, inplace=True)\r\n",
        "\r\n",
        "  df.set_index(\"time\", inplace=True)\r\n",
        "  df = df[[f'{ratio}_close',f\"{ratio}_volume\"]]\r\n",
        "  # print(df.head())\r\n",
        "\r\n",
        "  # now we want to merge those 4\r\n",
        "  if len(main_df) == 0:           #i.e. is empty\r\n",
        "    main_df = df\r\n",
        "  else:\r\n",
        "    main_df = main_df.join(df)\r\n",
        "\r\n",
        "  main_df.fillna(method=\"ffill\", inplace=True)  # if there are gaps in data, use previously known values\r\n",
        "  main_df.dropna(inplace=True)\r\n",
        "\r\n",
        "# Now lets check the future price of litecoin  of all coins\r\n",
        "\r\n",
        "main_df['future'] = main_df[f'{RATIO_TO_PREDICT}_close'].shift(-FUTURE_PERIOD_PREDICT) \r\n",
        "print(main_df.head())\r\n",
        "\r\n",
        "\r\n",
        "#future price of litecoin(LTC-USD) \r\n",
        "# the 1st column is the \"current\" and the 2nd is the \"future\" after 3 periods \r\n",
        "print(main_df[[f'{RATIO_TO_PREDICT}_close', \"future\"]].head()) \r\n",
        "\r\n",
        "\r\n",
        "# The map part is what allows us to do this row-by-row for these columns, but also do it quite fast. \r\n",
        "# The list part converts the end result to a list, which we can just set as a column.\r\n",
        "main_df['target'] = list(map(classify, main_df[f'{RATIO_TO_PREDICT}_close'], main_df['future']))\r\n",
        "print(main_df[[f'{RATIO_TO_PREDICT}_close', \"future\",\"target\" ]].head(12)) \r\n",
        "\r\n"
      ],
      "execution_count": 33,
      "outputs": [
        {
          "output_type": "stream",
          "text": [
            "            BTC-USD_close  BTC-USD_volume  ...  ETH-USD_volume     future\n",
            "time                                       ...                           \n",
            "1528968720    6487.379883        7.706374  ...       26.019083  96.389999\n",
            "1528968780    6479.410156        3.088252  ...        8.449400  96.519997\n",
            "1528968840    6479.410156        1.404100  ...       26.994646  96.440002\n",
            "1528968900    6479.979980        0.753000  ...       77.355759  96.470001\n",
            "1528968960    6480.000000        1.490900  ...        7.503300  96.400002\n",
            "\n",
            "[5 rows x 9 columns]\n",
            "            LTC-USD_close     future\n",
            "time                                \n",
            "1528968720      96.660004  96.389999\n",
            "1528968780      96.570000  96.519997\n",
            "1528968840      96.500000  96.440002\n",
            "1528968900      96.389999  96.470001\n",
            "1528968960      96.519997  96.400002\n",
            "            LTC-USD_close     future  target\n",
            "time                                        \n",
            "1528968720      96.660004  96.389999       0\n",
            "1528968780      96.570000  96.519997       0\n",
            "1528968840      96.500000  96.440002       0\n",
            "1528968900      96.389999  96.470001       1\n",
            "1528968960      96.519997  96.400002       0\n",
            "1528969020      96.440002  96.400002       0\n",
            "1528969080      96.470001  96.400002       0\n",
            "1528969140      96.400002  96.400002       0\n",
            "1528969200      96.400002  96.400002       0\n",
            "1528969260      96.400002  96.449997       1\n",
            "1528969320      96.400002  96.419998       1\n",
            "1528969380      96.400002  96.400002       0\n"
          ],
          "name": "stdout"
        }
      ]
    },
    {
      "cell_type": "code",
      "metadata": {
        "id": "7cVEugpjMOKF"
      },
      "source": [
        "# "
      ],
      "execution_count": null,
      "outputs": []
    }
  ]
}